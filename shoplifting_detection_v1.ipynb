{
 "cells": [
  {
   "cell_type": "code",
   "execution_count": 2,
   "metadata": {
    "colab": {
     "base_uri": "https://localhost:8080/"
    },
    "execution": {
     "iopub.execute_input": "2024-02-29T15:22:19.493192Z",
     "iopub.status.busy": "2024-02-29T15:22:19.492911Z",
     "iopub.status.idle": "2024-02-29T15:23:00.461756Z",
     "shell.execute_reply": "2024-02-29T15:23:00.460406Z",
     "shell.execute_reply.started": "2024-02-29T15:22:19.493163Z"
    },
    "id": "O44jUzD0qwwJ",
    "outputId": "0b93ac49-76de-4f0d-eab0-8c4688c8736d"
   },
   "outputs": [
    {
     "name": "stdout",
     "output_type": "stream",
     "text": [
      "Requirement already satisfied: super-gradients in /opt/conda/lib/python3.10/site-packages (3.6.0)\n",
      "Requirement already satisfied: torch>=1.9.0 in /opt/conda/lib/python3.10/site-packages (from super-gradients) (2.1.2)\n",
      "Requirement already satisfied: tqdm>=4.57.0 in /opt/conda/lib/python3.10/site-packages (from super-gradients) (4.66.1)\n",
      "Requirement already satisfied: boto3>=1.17.15 in /opt/conda/lib/python3.10/site-packages (from super-gradients) (1.26.100)\n",
      "Requirement already satisfied: jsonschema>=3.2.0 in /opt/conda/lib/python3.10/site-packages (from super-gradients) (4.20.0)\n",
      "Requirement already satisfied: Deprecated>=1.2.11 in /opt/conda/lib/python3.10/site-packages (from super-gradients) (1.2.14)\n",
      "Requirement already satisfied: scipy>=1.6.1 in /opt/conda/lib/python3.10/site-packages (from super-gradients) (1.11.4)\n",
      "Requirement already satisfied: matplotlib>=3.3.4 in /opt/conda/lib/python3.10/site-packages (from super-gradients) (3.7.5)\n",
      "Requirement already satisfied: psutil>=5.8.0 in /opt/conda/lib/python3.10/site-packages (from super-gradients) (5.9.3)\n",
      "Requirement already satisfied: tensorboard>=2.4.1 in /opt/conda/lib/python3.10/site-packages (from super-gradients) (2.15.1)\n",
      "Requirement already satisfied: setuptools>=21.0.0 in /opt/conda/lib/python3.10/site-packages (from super-gradients) (69.0.3)\n",
      "Requirement already satisfied: coverage~=5.3.1 in /opt/conda/lib/python3.10/site-packages (from super-gradients) (5.3.1)\n",
      "Requirement already satisfied: torchvision>=0.10.0 in /opt/conda/lib/python3.10/site-packages (from super-gradients) (0.16.2)\n",
      "Requirement already satisfied: sphinx~=4.0.2 in /opt/conda/lib/python3.10/site-packages (from super-gradients) (4.0.3)\n",
      "Requirement already satisfied: sphinx-rtd-theme in /opt/conda/lib/python3.10/site-packages (from super-gradients) (0.2.4)\n",
      "Requirement already satisfied: torchmetrics==0.8 in /opt/conda/lib/python3.10/site-packages (from super-gradients) (0.8.0)\n",
      "Requirement already satisfied: hydra-core>=1.2.0 in /opt/conda/lib/python3.10/site-packages (from super-gradients) (1.3.2)\n",
      "Requirement already satisfied: omegaconf in /opt/conda/lib/python3.10/site-packages (from super-gradients) (2.3.0)\n",
      "Requirement already satisfied: onnxruntime==1.13.1 in /opt/conda/lib/python3.10/site-packages (from super-gradients) (1.13.1)\n",
      "Requirement already satisfied: onnx==1.13.0 in /opt/conda/lib/python3.10/site-packages (from super-gradients) (1.13.0)\n",
      "Requirement already satisfied: pillow!=8.3,>=5.3.0 in /opt/conda/lib/python3.10/site-packages (from super-gradients) (9.5.0)\n",
      "Requirement already satisfied: pip-tools>=6.12.1 in /opt/conda/lib/python3.10/site-packages (from super-gradients) (7.4.0)\n",
      "Requirement already satisfied: pyparsing==2.4.5 in /opt/conda/lib/python3.10/site-packages (from super-gradients) (2.4.5)\n",
      "Requirement already satisfied: einops==0.3.2 in /opt/conda/lib/python3.10/site-packages (from super-gradients) (0.3.2)\n",
      "Requirement already satisfied: pycocotools==2.0.6 in /opt/conda/lib/python3.10/site-packages (from super-gradients) (2.0.6)\n",
      "Requirement already satisfied: protobuf==3.20.3 in /opt/conda/lib/python3.10/site-packages (from super-gradients) (3.20.3)\n",
      "Requirement already satisfied: treelib==1.6.1 in /opt/conda/lib/python3.10/site-packages (from super-gradients) (1.6.1)\n",
      "Requirement already satisfied: termcolor==1.1.0 in /opt/conda/lib/python3.10/site-packages (from super-gradients) (1.1.0)\n",
      "Requirement already satisfied: packaging>=20.4 in /opt/conda/lib/python3.10/site-packages (from super-gradients) (21.3)\n",
      "Requirement already satisfied: wheel>=0.38.0 in /opt/conda/lib/python3.10/site-packages (from super-gradients) (0.42.0)\n",
      "Requirement already satisfied: pygments>=2.7.4 in /opt/conda/lib/python3.10/site-packages (from super-gradients) (2.17.2)\n",
      "Requirement already satisfied: stringcase>=1.2.0 in /opt/conda/lib/python3.10/site-packages (from super-gradients) (1.2.0)\n",
      "Requirement already satisfied: numpy<=1.23 in /opt/conda/lib/python3.10/site-packages (from super-gradients) (1.23.0)\n",
      "Requirement already satisfied: rapidfuzz in /opt/conda/lib/python3.10/site-packages (from super-gradients) (3.6.1)\n",
      "Requirement already satisfied: json-tricks==3.16.1 in /opt/conda/lib/python3.10/site-packages (from super-gradients) (3.16.1)\n",
      "Requirement already satisfied: onnxsim<1.0,>=0.4.3 in /opt/conda/lib/python3.10/site-packages (from super-gradients) (0.4.35)\n",
      "Requirement already satisfied: data-gradients~=0.3.1 in /opt/conda/lib/python3.10/site-packages (from super-gradients) (0.3.2)\n",
      "Requirement already satisfied: albumentations~=1.3 in /opt/conda/lib/python3.10/site-packages (from super-gradients) (1.3.1)\n",
      "Requirement already satisfied: typing-extensions>=3.6.2.1 in /opt/conda/lib/python3.10/site-packages (from onnx==1.13.0->super-gradients) (4.9.0)\n",
      "Requirement already satisfied: coloredlogs in /opt/conda/lib/python3.10/site-packages (from onnxruntime==1.13.1->super-gradients) (15.0.1)\n",
      "Requirement already satisfied: flatbuffers in /opt/conda/lib/python3.10/site-packages (from onnxruntime==1.13.1->super-gradients) (23.5.26)\n",
      "Requirement already satisfied: sympy in /opt/conda/lib/python3.10/site-packages (from onnxruntime==1.13.1->super-gradients) (1.12)\n",
      "Requirement already satisfied: onnxruntime==1.13.1 in /opt/conda/lib/python3.10/site-packages (from super-gradients) (1.13.1)\n",
      "Requirement already satisfied: onnx==1.13.0 in /opt/conda/lib/python3.10/site-packages (from super-gradients) (1.13.0)\n",
      "Requirement already satisfied: pillow!=8.3,>=5.3.0 in /opt/conda/lib/python3.10/site-packages (from super-gradients) (9.5.0)\n",
      "Requirement already satisfied: pip-tools>=6.12.1 in /opt/conda/lib/python3.10/site-packages (from super-gradients) (7.4.0)\n",
      "Requirement already satisfied: pyparsing==2.4.5 in /opt/conda/lib/python3.10/site-packages (from super-gradients) (2.4.5)\n",
      "Requirement already satisfied: einops==0.3.2 in /opt/conda/lib/python3.10/site-packages (from super-gradients) (0.3.2)\n",
      "Requirement already satisfied: pycocotools==2.0.6 in /opt/conda/lib/python3.10/site-packages (from super-gradients) (2.0.6)\n",
      "Requirement already satisfied: protobuf==3.20.3 in /opt/conda/lib/python3.10/site-packages (from super-gradients) (3.20.3)\n",
      "Requirement already satisfied: treelib==1.6.1 in /opt/conda/lib/python3.10/site-packages (from super-gradients) (1.6.1)\n",
      "Requirement already satisfied: termcolor==1.1.0 in /opt/conda/lib/python3.10/site-packages (from super-gradients) (1.1.0)\n",
      "Requirement already satisfied: packaging>=20.4 in /opt/conda/lib/python3.10/site-packages (from super-gradients) (21.3)\n",
      "Requirement already satisfied: wheel>=0.38.0 in /opt/conda/lib/python3.10/site-packages (from super-gradients) (0.42.0)\n",
      "Requirement already satisfied: pygments>=2.7.4 in /opt/conda/lib/python3.10/site-packages (from super-gradients) (2.17.2)\n",
      "Requirement already satisfied: stringcase>=1.2.0 in /opt/conda/lib/python3.10/site-packages (from super-gradients) (1.2.0)\n",
      "Requirement already satisfied: numpy<=1.23 in /opt/conda/lib/python3.10/site-packages (from super-gradients) (1.23.0)\n",
      "Requirement already satisfied: rapidfuzz in /opt/conda/lib/python3.10/site-packages (from super-gradients) (3.6.1)\n",
      "Requirement already satisfied: json-tricks==3.16.1 in /opt/conda/lib/python3.10/site-packages (from super-gradients) (3.16.1)\n",
      "Requirement already satisfied: onnxsim<1.0,>=0.4.3 in /opt/conda/lib/python3.10/site-packages (from super-gradients) (0.4.35)\n",
      "Requirement already satisfied: data-gradients~=0.3.1 in /opt/conda/lib/python3.10/site-packages (from super-gradients) (0.3.2)\n",
      "Requirement already satisfied: albumentations~=1.3 in /opt/conda/lib/python3.10/site-packages (from super-gradients) (1.3.1)\n",
      "Requirement already satisfied: typing-extensions>=3.6.2.1 in /opt/conda/lib/python3.10/site-packages (from onnx==1.13.0->super-gradients) (4.9.0)\n",
      "Requirement already satisfied: coloredlogs in /opt/conda/lib/python3.10/site-packages (from onnxruntime==1.13.1->super-gradients) (15.0.1)\n",
      "Requirement already satisfied: flatbuffers in /opt/conda/lib/python3.10/site-packages (from onnxruntime==1.13.1->super-gradients) (23.5.26)\n",
      "Requirement already satisfied: sympy in /opt/conda/lib/python3.10/site-packages (from onnxruntime==1.13.1->super-gradients) (1.12)\n",
      "Requirement already satisfied: pyDeprecate==0.3.* in /opt/conda/lib/python3.10/site-packages (from torchmetrics==0.8->super-gradients) (0.3.2)\n",
      "Requirement already satisfied: future in /opt/conda/lib/python3.10/site-packages (from treelib==1.6.1->super-gradients) (1.0.0)\n",
      "Requirement already satisfied: scikit-image>=0.16.1 in /opt/conda/lib/python3.10/site-packages (from albumentations~=1.3->super-gradients) (0.22.0)\n",
      "Requirement already satisfied: PyYAML in /opt/conda/lib/python3.10/site-packages (from albumentations~=1.3->super-gradients) (6.0.1)\n",
      "Requirement already satisfied: qudida>=0.0.4 in /opt/conda/lib/python3.10/site-packages (from albumentations~=1.3->super-gradients) (0.0.4)\n",
      "Requirement already satisfied: opencv-python-headless>=4.1.1 in /opt/conda/lib/python3.10/site-packages (from albumentations~=1.3->super-gradients) (4.9.0.80)\n",
      "Requirement already satisfied: botocore<1.30.0,>=1.29.100 in /opt/conda/lib/python3.10/site-packages (from boto3>=1.17.15->super-gradients) (1.29.165)\n",
      "Requirement already satisfied: jmespath<2.0.0,>=0.7.1 in /opt/conda/lib/python3.10/site-packages (from boto3>=1.17.15->super-gradients) (1.0.1)\n",
      "Requirement already satisfied: s3transfer<0.7.0,>=0.6.0 in /opt/conda/lib/python3.10/site-packages (from boto3>=1.17.15->super-gradients) (0.6.2)\n",
      "Requirement already satisfied: platformdirs>=2.5.2 in /opt/conda/lib/python3.10/site-packages (from data-gradients~=0.3.1->super-gradients) (4.2.0)\n",
      "Requirement already satisfied: opencv-python in /opt/conda/lib/python3.10/site-packages (from data-gradients~=0.3.1->super-gradients) (4.9.0.80)\n",
      "Requirement already satisfied: seaborn in /opt/conda/lib/python3.10/site-packages (from data-gradients~=0.3.1->super-gradients) (0.12.2)\n",
      "Requirement already satisfied: xhtml2pdf==0.2.11 in /opt/conda/lib/python3.10/site-packages (from data-gradients~=0.3.1->super-gradients) (0.2.11)\n",
      "Requirement already satisfied: jinja2 in /opt/conda/lib/python3.10/site-packages (from data-gradients~=0.3.1->super-gradients) (3.1.2)\n",
      "Requirement already satisfied: imagededup in /opt/conda/lib/python3.10/site-packages (from data-gradients~=0.3.1->super-gradients) (0.3.2)\n",
      "Requirement already satisfied: arabic-reshaper>=3.0.0 in /opt/conda/lib/python3.10/site-packages (from xhtml2pdf==0.2.11->data-gradients~=0.3.1->super-gradients) (3.0.0)\n",
      "Requirement already satisfied: html5lib>=1.0.1 in /opt/conda/lib/python3.10/site-packages (from xhtml2pdf==0.2.11->data-gradients~=0.3.1->super-gradients) (1.1)\n",
      "Requirement already satisfied: pyHanko>=0.12.1 in /opt/conda/lib/python3.10/site-packages (from xhtml2pdf==0.2.11->data-gradients~=0.3.1->super-gradients) (0.21.0)\n",
      "Requirement already satisfied: pyhanko-certvalidator>=0.19.5 in /opt/conda/lib/python3.10/site-packages (from xhtml2pdf==0.2.11->data-gradients~=0.3.1->super-gradients) (0.26.3)\n",
      "Requirement already satisfied: pypdf>=3.1.0 in /opt/conda/lib/python3.10/site-packages (from xhtml2pdf==0.2.11->data-gradients~=0.3.1->super-gradients) (4.0.2)\n",
      "Requirement already satisfied: python-bidi>=0.4.2 in /opt/conda/lib/python3.10/site-packages (from xhtml2pdf==0.2.11->data-gradients~=0.3.1->super-gradients) (0.4.2)\n",
      "Requirement already satisfied: reportlab<4,>=3.5.53 in /opt/conda/lib/python3.10/site-packages (from xhtml2pdf==0.2.11->data-gradients~=0.3.1->super-gradients) (3.6.13)\n",
      "Requirement already satisfied: svglib>=1.2.1 in /opt/conda/lib/python3.10/site-packages (from xhtml2pdf==0.2.11->data-gradients~=0.3.1->super-gradients) (1.5.1)\n",
      "Requirement already satisfied: wrapt<2,>=1.10 in /opt/conda/lib/python3.10/site-packages (from Deprecated>=1.2.11->super-gradients) (1.14.1)\n",
      "Requirement already satisfied: antlr4-python3-runtime==4.9.* in /opt/conda/lib/python3.10/site-packages (from hydra-core>=1.2.0->super-gradients) (4.9.3)\n",
      "Requirement already satisfied: attrs>=22.2.0 in /opt/conda/lib/python3.10/site-packages (from jsonschema>=3.2.0->super-gradients) (23.2.0)\n",
      "Requirement already satisfied: jsonschema-specifications>=2023.03.6 in /opt/conda/lib/python3.10/site-packages (from jsonschema>=3.2.0->super-gradients) (2023.12.1)\n",
      "Requirement already satisfied: referencing>=0.28.4 in /opt/conda/lib/python3.10/site-packages (from jsonschema>=3.2.0->super-gradients) (0.32.1)\n",
      "Requirement already satisfied: rpds-py>=0.7.1 in /opt/conda/lib/python3.10/site-packages (from jsonschema>=3.2.0->super-gradients) (0.16.2)\n",
      "Requirement already satisfied: contourpy>=1.0.1 in /opt/conda/lib/python3.10/site-packages (from matplotlib>=3.3.4->super-gradients) (1.2.0)\n",
      "Requirement already satisfied: cycler>=0.10 in /opt/conda/lib/python3.10/site-packages (from matplotlib>=3.3.4->super-gradients) (0.12.1)\n",
      "Requirement already satisfied: fonttools>=4.22.0 in /opt/conda/lib/python3.10/site-packages (from matplotlib>=3.3.4->super-gradients) (4.47.0)\n",
      "Requirement already satisfied: kiwisolver>=1.0.1 in /opt/conda/lib/python3.10/site-packages (from matplotlib>=3.3.4->super-gradients) (1.4.5)\n",
      "Requirement already satisfied: python-dateutil>=2.7 in /opt/conda/lib/python3.10/site-packages (from matplotlib>=3.3.4->super-gradients) (2.8.2)\n",
      "Requirement already satisfied: rich in /opt/conda/lib/python3.10/site-packages (from onnxsim<1.0,>=0.4.3->super-gradients) (13.7.0)\n",
      "Requirement already satisfied: build>=1.0.0 in /opt/conda/lib/python3.10/site-packages (from pip-tools>=6.12.1->super-gradients) (1.0.3)\n",
      "Requirement already satisfied: click>=8 in /opt/conda/lib/python3.10/site-packages (from pip-tools>=6.12.1->super-gradients) (8.1.7)\n",
      "Requirement already satisfied: pip>=22.2 in /opt/conda/lib/python3.10/site-packages (from pip-tools>=6.12.1->super-gradients) (23.3.2)\n",
      "Requirement already satisfied: pyproject-hooks in /opt/conda/lib/python3.10/site-packages (from pip-tools>=6.12.1->super-gradients) (1.0.0)\n",
      "Requirement already satisfied: tomli in /opt/conda/lib/python3.10/site-packages (from pip-tools>=6.12.1->super-gradients) (2.0.1)\n",
      "Requirement already satisfied: sphinxcontrib-applehelp in /opt/conda/lib/python3.10/site-packages (from sphinx~=4.0.2->super-gradients) (1.0.8)\n",
      "Requirement already satisfied: sphinxcontrib-devhelp in /opt/conda/lib/python3.10/site-packages (from sphinx~=4.0.2->super-gradients) (1.0.6)\n",
      "Requirement already satisfied: sphinxcontrib-jsmath in /opt/conda/lib/python3.10/site-packages (from sphinx~=4.0.2->super-gradients) (1.0.1)\n",
      "Requirement already satisfied: sphinxcontrib-htmlhelp in /opt/conda/lib/python3.10/site-packages (from sphinx~=4.0.2->super-gradients) (2.0.5)\n",
      "Requirement already satisfied: sphinxcontrib-serializinghtml in /opt/conda/lib/python3.10/site-packages (from sphinx~=4.0.2->super-gradients) (1.1.10)\n",
      "Requirement already satisfied: sphinxcontrib-qthelp in /opt/conda/lib/python3.10/site-packages (from sphinx~=4.0.2->super-gradients) (1.0.7)\n",
      "Requirement already satisfied: docutils<0.18,>=0.14 in /opt/conda/lib/python3.10/site-packages (from sphinx~=4.0.2->super-gradients) (0.17.1)\n",
      "Requirement already satisfied: snowballstemmer>=1.1 in /opt/conda/lib/python3.10/site-packages (from sphinx~=4.0.2->super-gradients) (2.2.0)\n",
      "Requirement already satisfied: babel>=1.3 in /opt/conda/lib/python3.10/site-packages (from sphinx~=4.0.2->super-gradients) (2.14.0)\n",
      "Requirement already satisfied: alabaster<0.8,>=0.7 in /opt/conda/lib/python3.10/site-packages (from sphinx~=4.0.2->super-gradients) (0.7.16)\n",
      "Requirement already satisfied: imagesize in /opt/conda/lib/python3.10/site-packages (from sphinx~=4.0.2->super-gradients) (1.4.1)\n",
      "Requirement already satisfied: requests>=2.5.0 in /opt/conda/lib/python3.10/site-packages (from sphinx~=4.0.2->super-gradients) (2.31.0)\n",
      "Requirement already satisfied: absl-py>=0.4 in /opt/conda/lib/python3.10/site-packages (from tensorboard>=2.4.1->super-gradients) (1.4.0)\n",
      "Requirement already satisfied: grpcio>=1.48.2 in /opt/conda/lib/python3.10/site-packages (from tensorboard>=2.4.1->super-gradients) (1.51.1)\n",
      "Requirement already satisfied: google-auth<3,>=1.6.3 in /opt/conda/lib/python3.10/site-packages (from tensorboard>=2.4.1->super-gradients) (2.26.1)\n",
      "Requirement already satisfied: google-auth-oauthlib<2,>=0.5 in /opt/conda/lib/python3.10/site-packages (from tensorboard>=2.4.1->super-gradients) (1.2.0)\n",
      "Requirement already satisfied: markdown>=2.6.8 in /opt/conda/lib/python3.10/site-packages (from tensorboard>=2.4.1->super-gradients) (3.5.2)\n",
      "Requirement already satisfied: six>1.9 in /opt/conda/lib/python3.10/site-packages (from tensorboard>=2.4.1->super-gradients) (1.16.0)\n",
      "Requirement already satisfied: tensorboard-data-server<0.8.0,>=0.7.0 in /opt/conda/lib/python3.10/site-packages (from tensorboard>=2.4.1->super-gradients) (0.7.2)\n",
      "Requirement already satisfied: werkzeug>=1.0.1 in /opt/conda/lib/python3.10/site-packages (from tensorboard>=2.4.1->super-gradients) (3.0.1)\n",
      "Requirement already satisfied: filelock in /opt/conda/lib/python3.10/site-packages (from torch>=1.9.0->super-gradients) (3.13.1)\n",
      "Requirement already satisfied: networkx in /opt/conda/lib/python3.10/site-packages (from torch>=1.9.0->super-gradients) (3.2.1)\n",
      "Requirement already satisfied: fsspec in /opt/conda/lib/python3.10/site-packages (from torch>=1.9.0->super-gradients) (2024.2.0)\n",
      "Requirement already satisfied: urllib3<1.27,>=1.25.4 in /opt/conda/lib/python3.10/site-packages (from botocore<1.30.0,>=1.29.100->boto3>=1.17.15->super-gradients) (1.26.18)\n",
      "Requirement already satisfied: cachetools<6.0,>=2.0.0 in /opt/conda/lib/python3.10/site-packages (from google-auth<3,>=1.6.3->tensorboard>=2.4.1->super-gradients) (4.2.4)\n",
      "Requirement already satisfied: pyasn1-modules>=0.2.1 in /opt/conda/lib/python3.10/site-packages (from google-auth<3,>=1.6.3->tensorboard>=2.4.1->super-gradients) (0.3.0)\n",
      "Requirement already satisfied: rsa<5,>=3.1.4 in /opt/conda/lib/python3.10/site-packages (from google-auth<3,>=1.6.3->tensorboard>=2.4.1->super-gradients) (4.9)\n",
      "Requirement already satisfied: requests-oauthlib>=0.7.0 in /opt/conda/lib/python3.10/site-packages (from google-auth-oauthlib<2,>=0.5->tensorboard>=2.4.1->super-gradients) (1.3.1)\n",
      "Requirement already satisfied: MarkupSafe>=2.0 in /opt/conda/lib/python3.10/site-packages (from jinja2->data-gradients~=0.3.1->super-gradients) (2.1.3)\n",
      "Requirement already satisfied: scikit-learn>=0.19.1 in /opt/conda/lib/python3.10/site-packages (from qudida>=0.0.4->albumentations~=1.3->super-gradients) (1.2.2)\n",
      "Requirement already satisfied: charset-normalizer<4,>=2 in /opt/conda/lib/python3.10/site-packages (from requests>=2.5.0->sphinx~=4.0.2->super-gradients) (3.3.2)\n",
      "Requirement already satisfied: idna<4,>=2.5 in /opt/conda/lib/python3.10/site-packages (from requests>=2.5.0->sphinx~=4.0.2->super-gradients) (3.6)\n",
      "Requirement already satisfied: certifi>=2017.4.17 in /opt/conda/lib/python3.10/site-packages (from requests>=2.5.0->sphinx~=4.0.2->super-gradients) (2024.2.2)\n",
      "Requirement already satisfied: imageio>=2.27 in /opt/conda/lib/python3.10/site-packages (from scikit-image>=0.16.1->albumentations~=1.3->super-gradients) (2.33.1)\n",
      "Requirement already satisfied: tifffile>=2022.8.12 in /opt/conda/lib/python3.10/site-packages (from scikit-image>=0.16.1->albumentations~=1.3->super-gradients) (2023.12.9)\n",
      "Requirement already satisfied: lazy_loader>=0.3 in /opt/conda/lib/python3.10/site-packages (from scikit-image>=0.16.1->albumentations~=1.3->super-gradients) (0.3)\n",
      "Requirement already satisfied: humanfriendly>=9.1 in /opt/conda/lib/python3.10/site-packages (from coloredlogs->onnxruntime==1.13.1->super-gradients) (10.0)\n",
      "Requirement already satisfied: PyWavelets in /opt/conda/lib/python3.10/site-packages (from imagededup->data-gradients~=0.3.1->super-gradients) (1.5.0)\n",
      "Requirement already satisfied: markdown-it-py>=2.2.0 in /opt/conda/lib/python3.10/site-packages (from rich->onnxsim<1.0,>=0.4.3->super-gradients) (3.0.0)\n",
      "Requirement already satisfied: pandas>=0.25 in /opt/conda/lib/python3.10/site-packages (from seaborn->data-gradients~=0.3.1->super-gradients) (2.1.4)\n",
      "Requirement already satisfied: mpmath>=0.19 in /opt/conda/lib/python3.10/site-packages (from sympy->onnxruntime==1.13.1->super-gradients) (1.3.0)\n",
      "Requirement already satisfied: webencodings in /opt/conda/lib/python3.10/site-packages (from html5lib>=1.0.1->xhtml2pdf==0.2.11->data-gradients~=0.3.1->super-gradients) (0.5.1)\n",
      "Requirement already satisfied: mdurl~=0.1 in /opt/conda/lib/python3.10/site-packages (from markdown-it-py>=2.2.0->rich->onnxsim<1.0,>=0.4.3->super-gradients) (0.1.2)\n",
      "Requirement already satisfied: pytz>=2020.1 in /opt/conda/lib/python3.10/site-packages (from pandas>=0.25->seaborn->data-gradients~=0.3.1->super-gradients) (2023.3.post1)\n",
      "Requirement already satisfied: tzdata>=2022.1 in /opt/conda/lib/python3.10/site-packages (from pandas>=0.25->seaborn->data-gradients~=0.3.1->super-gradients) (2023.4)\n",
      "Requirement already satisfied: pyasn1<0.6.0,>=0.4.6 in /opt/conda/lib/python3.10/site-packages (from pyasn1-modules>=0.2.1->google-auth<3,>=1.6.3->tensorboard>=2.4.1->super-gradients) (0.5.1)\n",
      "Requirement already satisfied: asn1crypto>=1.5.1 in /opt/conda/lib/python3.10/site-packages (from pyHanko>=0.12.1->xhtml2pdf==0.2.11->data-gradients~=0.3.1->super-gradients) (1.5.1)\n",
      "Requirement already satisfied: qrcode>=7.3.1 in /opt/conda/lib/python3.10/site-packages (from pyHanko>=0.12.1->xhtml2pdf==0.2.11->data-gradients~=0.3.1->super-gradients) (7.4.2)\n",
      "Requirement already satisfied: tzlocal>=4.3 in /opt/conda/lib/python3.10/site-packages (from pyHanko>=0.12.1->xhtml2pdf==0.2.11->data-gradients~=0.3.1->super-gradients) (5.2)\n",
      "Requirement already satisfied: cryptography>=41.0.5 in /opt/conda/lib/python3.10/site-packages (from pyHanko>=0.12.1->xhtml2pdf==0.2.11->data-gradients~=0.3.1->super-gradients) (41.0.7)\n",
      "Requirement already satisfied: oscrypto>=1.1.0 in /opt/conda/lib/python3.10/site-packages (from pyhanko-certvalidator>=0.19.5->xhtml2pdf==0.2.11->data-gradients~=0.3.1->super-gradients) (1.3.0)\n",
      "Requirement already satisfied: uritools>=3.0.1 in /opt/conda/lib/python3.10/site-packages (from pyhanko-certvalidator>=0.19.5->xhtml2pdf==0.2.11->data-gradients~=0.3.1->super-gradients) (4.0.2)\n",
      "Requirement already satisfied: oauthlib>=3.0.0 in /opt/conda/lib/python3.10/site-packages (from requests-oauthlib>=0.7.0->google-auth-oauthlib<2,>=0.5->tensorboard>=2.4.1->super-gradients) (3.2.2)\n",
      "Requirement already satisfied: joblib>=1.1.1 in /opt/conda/lib/python3.10/site-packages (from scikit-learn>=0.19.1->qudida>=0.0.4->albumentations~=1.3->super-gradients) (1.3.2)\n",
      "Requirement already satisfied: threadpoolctl>=2.0.0 in /opt/conda/lib/python3.10/site-packages (from scikit-learn>=0.19.1->qudida>=0.0.4->albumentations~=1.3->super-gradients) (3.2.0)\n",
      "Requirement already satisfied: lxml in /opt/conda/lib/python3.10/site-packages (from svglib>=1.2.1->xhtml2pdf==0.2.11->data-gradients~=0.3.1->super-gradients) (5.1.0)\n",
      "Requirement already satisfied: tinycss2>=0.6.0 in /opt/conda/lib/python3.10/site-packages (from svglib>=1.2.1->xhtml2pdf==0.2.11->data-gradients~=0.3.1->super-gradients) (1.2.1)\n",
      "Requirement already satisfied: cssselect2>=0.2.0 in /opt/conda/lib/python3.10/site-packages (from svglib>=1.2.1->xhtml2pdf==0.2.11->data-gradients~=0.3.1->super-gradients) (0.7.0)\n",
      "Requirement already satisfied: cffi>=1.12 in /opt/conda/lib/python3.10/site-packages (from cryptography>=41.0.5->pyHanko>=0.12.1->xhtml2pdf==0.2.11->data-gradients~=0.3.1->super-gradients) (1.16.0)\n",
      "Requirement already satisfied: pypng in /opt/conda/lib/python3.10/site-packages (from qrcode>=7.3.1->pyHanko>=0.12.1->xhtml2pdf==0.2.11->data-gradients~=0.3.1->super-gradients) (0.20220715.0)\n",
      "Requirement already satisfied: pycparser in /opt/conda/lib/python3.10/site-packages (from cffi>=1.12->cryptography>=41.0.5->pyHanko>=0.12.1->xhtml2pdf==0.2.11->data-gradients~=0.3.1->super-gradients) (2.21)\n",
      "Requirement already satisfied: imutils in /opt/conda/lib/python3.10/site-packages (0.5.4)\n",
      "Requirement already satisfied: pytube in /opt/conda/lib/python3.10/site-packages (15.0.0)\n"
     ]
    }
   ],
   "source": [
    "!pip install super-gradients\n",
    "!pip install imutils\n",
    "!pip install pytube --upgrade"
   ]
  },
  {
   "cell_type": "code",
   "execution_count": 5,
   "metadata": {
    "colab": {
     "base_uri": "https://localhost:8080/",
     "height": 36
    },
    "execution": {
     "iopub.execute_input": "2024-02-29T15:24:09.221909Z",
     "iopub.status.busy": "2024-02-29T15:24:09.221078Z",
     "iopub.status.idle": "2024-02-29T15:24:15.462359Z",
     "shell.execute_reply": "2024-02-29T15:24:15.461441Z",
     "shell.execute_reply.started": "2024-02-29T15:24:09.221878Z"
    },
    "id": "5ctfMY8JrLFs",
    "outputId": "b6c87d41-2ae3-426d-d7db-8e336b2bdb4f"
   },
   "outputs": [
    {
     "data": {
      "text/plain": [
       "'2.1.2'"
      ]
     },
     "execution_count": 5,
     "metadata": {},
     "output_type": "execute_result"
    }
   ],
   "source": [
    "import torch\n",
    "torch.__version__"
   ]
  },
  {
   "cell_type": "code",
   "execution_count": 6,
   "metadata": {
    "colab": {
     "base_uri": "https://localhost:8080/",
     "height": 36
    },
    "execution": {
     "iopub.execute_input": "2024-02-29T15:24:15.693668Z",
     "iopub.status.busy": "2024-02-29T15:24:15.693113Z",
     "iopub.status.idle": "2024-02-29T15:24:15.775688Z",
     "shell.execute_reply": "2024-02-29T15:24:15.774857Z",
     "shell.execute_reply.started": "2024-02-29T15:24:15.693638Z"
    },
    "id": "wE2k_ZD4Jer4",
    "outputId": "e0376b9a-d877-46d1-d15a-08757ea08098"
   },
   "outputs": [
    {
     "data": {
      "text/plain": [
       "'Tesla T4'"
      ]
     },
     "execution_count": 6,
     "metadata": {},
     "output_type": "execute_result"
    }
   ],
   "source": [
    "torch.cuda.get_device_name(0)"
   ]
  },
  {
   "cell_type": "code",
   "execution_count": 1,
   "metadata": {
    "colab": {
     "base_uri": "https://localhost:8080/"
    },
    "execution": {
     "iopub.execute_input": "2024-02-29T15:24:23.125271Z",
     "iopub.status.busy": "2024-02-29T15:24:23.124654Z",
     "iopub.status.idle": "2024-02-29T15:24:23.154898Z",
     "shell.execute_reply": "2024-02-29T15:24:23.153873Z",
     "shell.execute_reply.started": "2024-02-29T15:24:23.125241Z"
    },
    "id": "pXsvZyI0KZEn",
    "outputId": "9f04eaf3-527b-4e12-f5e2-bcd5efafd280"
   },
   "outputs": [],
   "source": [
    "# from google.colab import drive\n",
    "# drive.mount('/content/drive')"
   ]
  },
  {
   "cell_type": "code",
   "execution_count": 10,
   "metadata": {
    "execution": {
     "iopub.execute_input": "2024-02-29T15:30:14.161011Z",
     "iopub.status.busy": "2024-02-29T15:30:14.160650Z",
     "iopub.status.idle": "2024-02-29T15:30:14.164190Z",
     "shell.execute_reply": "2024-02-29T15:30:14.163809Z",
     "shell.execute_reply.started": "2024-02-29T15:30:14.160982Z"
    }
   },
   "outputs": [],
   "source": [
    "import os\n",
    "os.makedirs('/kaggle/working/shoplifting_checkpoints')"
   ]
  },
  {
   "cell_type": "code",
   "execution_count": 11,
   "metadata": {
    "colab": {
     "base_uri": "https://localhost:8080/"
    },
    "execution": {
     "iopub.execute_input": "2024-02-29T15:30:47.616192Z",
     "iopub.status.busy": "2024-02-29T15:30:47.615368Z",
     "iopub.status.idle": "2024-02-29T15:30:47.622044Z",
     "shell.execute_reply": "2024-02-29T15:30:47.621640Z",
     "shell.execute_reply.started": "2024-02-29T15:30:47.616161Z"
    },
    "id": "t-0UIcJ6rvEk",
    "outputId": "d19d915e-0e77-4193-808e-84ba0aa2e74b"
   },
   "outputs": [],
   "source": [
    "from super_gradients.training import Trainer\n",
    "\n",
    "CHECKPOINT_DIR = '/kaggle/working/shoplifting_checkpoints'\n",
    "trainer = Trainer(experiment_name = 'shoplifting_1', ckpt_root_dir= CHECKPOINT_DIR)"
   ]
  },
  {
   "cell_type": "markdown",
   "metadata": {},
   "source": [
    "# Loading The Data"
   ]
  },
  {
   "cell_type": "code",
   "execution_count": 12,
   "metadata": {
    "execution": {
     "iopub.execute_input": "2024-02-29T15:30:55.371967Z",
     "iopub.status.busy": "2024-02-29T15:30:55.371051Z",
     "iopub.status.idle": "2024-02-29T15:30:55.374449Z",
     "shell.execute_reply": "2024-02-29T15:30:55.374012Z",
     "shell.execute_reply.started": "2024-02-29T15:30:55.371932Z"
    },
    "id": "ExqtqD3rtUws"
   },
   "outputs": [],
   "source": [
    "from super_gradients.training import dataloaders\n",
    "from super_gradients.training.dataloaders.dataloaders import coco_detection_yolo_format_train, coco_detection_yolo_format_val"
   ]
  },
  {
   "cell_type": "code",
   "execution_count": 14,
   "metadata": {
    "execution": {
     "iopub.execute_input": "2024-02-29T15:32:54.745349Z",
     "iopub.status.busy": "2024-02-29T15:32:54.744425Z",
     "iopub.status.idle": "2024-02-29T15:32:54.748204Z",
     "shell.execute_reply": "2024-02-29T15:32:54.747896Z",
     "shell.execute_reply.started": "2024-02-29T15:32:54.745301Z"
    },
    "id": "HuhkSPJpOUo6"
   },
   "outputs": [],
   "source": [
    "dataset_params = {\n",
    "    'data_dir':'/kaggle/input/shoplifting-dataset-3',\n",
    "    'train_images_dir':'/kaggle/input/shoplifting-dataset-3/train/images',\n",
    "    'train_labels_dir':'/kaggle/input/shoplifting-dataset-3/train/labels',\n",
    "    'val_images_dir':'/kaggle/input/shoplifting-dataset-3/valid/images',\n",
    "    'val_labels_dir':'/kaggle/input/shoplifting-dataset-3/valid/labels',\n",
    "    'test_images_dir':'/kaggle/input/shoplifting-dataset-3/test/images',\n",
    "    'test_labels_dir':'/kaggle/input/shoplifting-dataset-3/test/labels',\n",
    "    'classes':['normal', 'shoplifting']\n",
    "    }"
   ]
  },
  {
   "cell_type": "code",
   "execution_count": 16,
   "metadata": {
    "execution": {
     "iopub.execute_input": "2024-02-29T15:34:14.987741Z",
     "iopub.status.busy": "2024-02-29T15:34:14.986882Z",
     "iopub.status.idle": "2024-02-29T15:34:29.963182Z",
     "shell.execute_reply": "2024-02-29T15:34:29.962854Z",
     "shell.execute_reply.started": "2024-02-29T15:34:14.987708Z"
    },
    "id": "9P7xXHL5WYn5"
   },
   "outputs": [
    {
     "name": "stderr",
     "output_type": "stream",
     "text": [
      "[2024-02-29 15:34:15] INFO - detection_dataset.py - Dataset Initialization in progress. `cache_annotations=True` causes the process to take longer due to full dataset indexing.\n",
      "Indexing dataset annotations: 100%|██████████| 3717/3717 [00:10<00:00, 351.01it/s]\n",
      "[2024-02-29 15:34:25] WARNING - detection_dataset.py - Found 753 invalid bbox that were ignored. For more information, please set `show_all_warnings=True`.\n",
      "[2024-02-29 15:34:26] INFO - detection_dataset.py - Dataset Initialization in progress. `cache_annotations=True` causes the process to take longer due to full dataset indexing.\n",
      "Indexing dataset annotations: 100%|██████████| 918/918 [00:02<00:00, 349.57it/s]\n",
      "[2024-02-29 15:34:28] WARNING - detection_dataset.py - Found 331 invalid bbox that were ignored. For more information, please set `show_all_warnings=True`.\n",
      "[2024-02-29 15:34:28] INFO - detection_dataset.py - Dataset Initialization in progress. `cache_annotations=True` causes the process to take longer due to full dataset indexing.\n",
      "Indexing dataset annotations: 100%|██████████| 414/414 [00:01<00:00, 384.23it/s]\n",
      "[2024-02-29 15:34:29] WARNING - detection_dataset.py - Found 3 invalid bbox that were ignored. For more information, please set `show_all_warnings=True`.\n"
     ]
    }
   ],
   "source": [
    "from IPython.display import clear_output\n",
    "\n",
    "train_data = coco_detection_yolo_format_train(\n",
    "    dataset_params = {\n",
    "        'data_dir': dataset_params['data_dir'],\n",
    "        'images_dir': dataset_params['train_images_dir'],\n",
    "        'labels_dir': dataset_params['train_labels_dir'],\n",
    "        'classes': dataset_params['classes']\n",
    "    },\n",
    "    dataloader_params={\n",
    "        'batch_size':16,\n",
    "        'num_workers':2\n",
    "    }\n",
    ")\n",
    "val_data = coco_detection_yolo_format_val(\n",
    "    dataset_params={\n",
    "        'data_dir': dataset_params['data_dir'],\n",
    "        'images_dir': dataset_params['val_images_dir'],\n",
    "        'labels_dir': dataset_params['val_labels_dir'],\n",
    "        'classes': dataset_params['classes']\n",
    "    },\n",
    "    dataloader_params={\n",
    "        'batch_size':16,\n",
    "        'num_workers':2\n",
    "    }\n",
    ")\n",
    "\n",
    "test_data = coco_detection_yolo_format_val(\n",
    "    dataset_params={\n",
    "        'data_dir': dataset_params['data_dir'],\n",
    "        'images_dir': dataset_params['test_images_dir'],\n",
    "        'labels_dir': dataset_params['test_labels_dir'],\n",
    "        'classes': dataset_params['classes']\n",
    "    },\n",
    "    dataloader_params={\n",
    "        'batch_size':16,\n",
    "        'num_workers':2\n",
    "    }\n",
    ")\n"
   ]
  },
  {
   "cell_type": "markdown",
   "metadata": {},
   "source": [
    "# Instantiate The Model"
   ]
  },
  {
   "cell_type": "code",
   "execution_count": 18,
   "metadata": {
    "colab": {
     "base_uri": "https://localhost:8080/"
    },
    "execution": {
     "iopub.execute_input": "2024-02-29T15:34:42.951902Z",
     "iopub.status.busy": "2024-02-29T15:34:42.951020Z",
     "iopub.status.idle": "2024-02-29T15:34:43.555477Z",
     "shell.execute_reply": "2024-02-29T15:34:43.555146Z",
     "shell.execute_reply.started": "2024-02-29T15:34:42.951867Z"
    },
    "id": "GN7e4xULaDGL",
    "outputId": "50af800f-ea42-41d7-a2b5-a4e44c78c5b5"
   },
   "outputs": [
    {
     "name": "stderr",
     "output_type": "stream",
     "text": [
      "[2024-02-29 15:34:43] INFO - checkpoint_utils.py - License Notification: YOLO-NAS pre-trained weights are subjected to the specific license terms and conditions detailed in \n",
      "https://github.com/Deci-AI/super-gradients/blob/master/LICENSE.YOLONAS.md\n",
      "By downloading the pre-trained weight files you agree to comply with these terms.\n",
      "[2024-02-29 15:34:43] INFO - checkpoint_utils.py - Successfully loaded pretrained weights for architecture yolo_nas_s\n"
     ]
    }
   ],
   "source": [
    "from super_gradients.training import models\n",
    "\n",
    "model = models.get('yolo_nas_s',\n",
    "                   num_classes=len(dataset_params['classes']),\n",
    "                   pretrained_weights=\"coco\")"
   ]
  },
  {
   "cell_type": "markdown",
   "metadata": {
    "id": "dhhDR9VvpNyd"
   },
   "source": [
    "# Defining The Training Parameters"
   ]
  },
  {
   "cell_type": "code",
   "execution_count": 19,
   "metadata": {
    "execution": {
     "iopub.execute_input": "2024-02-29T15:34:48.091982Z",
     "iopub.status.busy": "2024-02-29T15:34:48.091250Z",
     "iopub.status.idle": "2024-02-29T15:34:48.100361Z",
     "shell.execute_reply": "2024-02-29T15:34:48.099953Z",
     "shell.execute_reply.started": "2024-02-29T15:34:48.091950Z"
    },
    "id": "CbE0QXyEpSz_"
   },
   "outputs": [],
   "source": [
    "from super_gradients.training.losses import PPYoloELoss\n",
    "from super_gradients.training.metrics import DetectionMetrics_050\n",
    "from super_gradients.training.models.detection_models.pp_yolo_e import PPYoloEPostPredictionCallback\n",
    "\n",
    "train_params = {\n",
    "    'silent_mode': True,\n",
    "    \"average_best_models\":True,\n",
    "    \"warmup_mode\": \"linear_epoch_step\",\n",
    "    \"warmup_initial_lr\": 1e-6,\n",
    "    \"lr_warmup_epochs\": 3,\n",
    "    \"initial_lr\": 5e-4,\n",
    "    \"lr_mode\": \"cosine\",\n",
    "    \"cosine_final_lr_ratio\": 0.1,\n",
    "    \"optimizer\": \"Adam\",\n",
    "    \"optimizer_params\": {\"weight_decay\": 0.0001},\n",
    "    \"zero_weight_decay_on_bias_and_bn\": True,\n",
    "    \"ema\": True,\n",
    "    \"ema_params\": {\"decay\": 0.9, \"decay_type\": \"threshold\"},\n",
    "    \"max_epochs\": 15,\n",
    "    \"mixed_precision\": True,\n",
    "    \"loss\": PPYoloELoss(\n",
    "        use_static_assigner=False,\n",
    "        # NOTE: num_classes needs to be defined here\n",
    "        num_classes=len(dataset_params['classes']),\n",
    "        reg_max=16\n",
    "    ),\n",
    "    \"valid_metrics_list\": [\n",
    "        DetectionMetrics_050(\n",
    "            score_thres=0.1,\n",
    "            top_k_predictions=300,\n",
    "            # NOTE: num_classes needs to be defined here\n",
    "            num_cls=len(dataset_params['classes']),\n",
    "            normalize_targets=True,\n",
    "            post_prediction_callback=PPYoloEPostPredictionCallback(\n",
    "                score_threshold=0.01,\n",
    "                nms_top_k=1000,\n",
    "                max_predictions=300,\n",
    "                nms_threshold=0.7\n",
    "            )\n",
    "        )\n",
    "    ],\n",
    "    \"metric_to_watch\": 'mAP@0.50'\n",
    "}"
   ]
  },
  {
   "cell_type": "markdown",
   "metadata": {
    "id": "ZA87V-j7gpn1"
   },
   "source": [
    "# Training the model"
   ]
  },
  {
   "cell_type": "code",
   "execution_count": 20,
   "metadata": {
    "colab": {
     "base_uri": "https://localhost:8080/"
    },
    "execution": {
     "iopub.execute_input": "2024-02-29T15:34:52.334708Z",
     "iopub.status.busy": "2024-02-29T15:34:52.333849Z",
     "iopub.status.idle": "2024-02-29T16:26:10.271217Z",
     "shell.execute_reply": "2024-02-29T16:26:10.270701Z",
     "shell.execute_reply.started": "2024-02-29T15:34:52.334676Z"
    },
    "id": "CoirPcpLawNS",
    "outputId": "b6cada91-4247-43b3-e71b-1cc359a9513a"
   },
   "outputs": [
    {
     "name": "stderr",
     "output_type": "stream",
     "text": [
      "[2024-02-29 15:34:52] INFO - sg_trainer.py - Starting a new run with `run_id=RUN_20240229_153452_599147`\n",
      "[2024-02-29 15:34:52] INFO - sg_trainer.py - Checkpoints directory: /kaggle/working/shoplifting_checkpoins/shoplifting_1/RUN_20240229_153452_599147\n",
      "[2024-02-29 15:34:52] INFO - sg_trainer.py - Using EMA with params {'decay': 0.9, 'decay_type': 'threshold'}\n"
     ]
    },
    {
     "name": "stdout",
     "output_type": "stream",
     "text": [
      "The console stream is now moved to /kaggle/working/shoplifting_checkpoins/shoplifting_1/RUN_20240229_153452_599147/console_Feb29_15_34_52.txt\n"
     ]
    },
    {
     "name": "stderr",
     "output_type": "stream",
     "text": [
      "/opt/conda/lib/python3.10/site-packages/super_gradients/common/registry/registry.py:72: DeprecationWarning: Object name `linear_epoch_step` is now deprecated. Please replace it with `LinearEpochLRWarmup`.\n",
      "  warnings.warn(f\"Object name `{name}` is now deprecated. Please replace it with `{deprecated_names[name]}`.\", DeprecationWarning)\n",
      "/opt/conda/lib/python3.10/site-packages/super_gradients/training/utils/optimizer_utils.py:108: DeprecationWarning: initialize_param_groups and update_param_groups usages are deprecated since 3.4.0, will be removed in 3.5.0 and have no effect. \n",
      " Assign different learning rates by passing a mapping of layer name prefixes to lr values through initial_lr training hyperparameter (i.e initial_lr={'backbone': 0.01, 'default':0.1})\n",
      "  warnings.warn(\n",
      "[2024-02-29 15:34:56] INFO - sg_trainer_utils.py - TRAINING PARAMETERS:\n",
      "    - Mode:                         Single GPU\n",
      "    - Number of GPUs:               1          (2 available on the machine)\n",
      "    - Full dataset size:            3617       (len(train_set))\n",
      "    - Batch size per GPU:           16         (batch_size)\n",
      "    - Batch Accumulate:             1          (batch_accumulate)\n",
      "    - Total batch size:             16         (num_gpus * batch_size)\n",
      "    - Effective Batch size:         16         (num_gpus * batch_size * batch_accumulate)\n",
      "    - Iterations per epoch:         226        (len(train_loader))\n",
      "    - Gradient updates per epoch:   226        (len(train_loader) / batch_accumulate)\n",
      "    - Model: YoloNAS_S  (19.02M parameters, 19.02M optimized)\n",
      "    - Learning Rates and Weight Decays:\n",
      "      - default: (19.02M parameters). LR: 0.0005 (19.02M parameters) WD: 0.0, (42.13K parameters), WD: 0.0001, (18.98M parameters)\n",
      "\n",
      "[2024-02-29 15:38:29] INFO - base_sg_logger.py - Checkpoint saved in /kaggle/working/shoplifting_checkpoins/shoplifting_1/RUN_20240229_153452_599147/ckpt_best.pth\n",
      "[2024-02-29 15:38:29] INFO - sg_trainer.py - Best checkpoint overriden: validation mAP@0.50: 0.19671496748924255\n",
      "[2024-02-29 15:41:56] INFO - base_sg_logger.py - Checkpoint saved in /kaggle/working/shoplifting_checkpoins/shoplifting_1/RUN_20240229_153452_599147/ckpt_best.pth\n",
      "[2024-02-29 15:41:56] INFO - sg_trainer.py - Best checkpoint overriden: validation mAP@0.50: 0.4968547523021698\n",
      "[2024-02-29 15:45:24] INFO - base_sg_logger.py - Checkpoint saved in /kaggle/working/shoplifting_checkpoins/shoplifting_1/RUN_20240229_153452_599147/ckpt_best.pth\n",
      "[2024-02-29 15:45:24] INFO - sg_trainer.py - Best checkpoint overriden: validation mAP@0.50: 0.5260732769966125\n",
      "[2024-02-29 15:48:47] INFO - base_sg_logger.py - Checkpoint saved in /kaggle/working/shoplifting_checkpoins/shoplifting_1/RUN_20240229_153452_599147/ckpt_best.pth\n",
      "[2024-02-29 15:48:47] INFO - sg_trainer.py - Best checkpoint overriden: validation mAP@0.50: 0.5443147420883179\n",
      "[2024-02-29 15:52:14] INFO - base_sg_logger.py - Checkpoint saved in /kaggle/working/shoplifting_checkpoins/shoplifting_1/RUN_20240229_153452_599147/ckpt_best.pth\n",
      "[2024-02-29 15:52:14] INFO - sg_trainer.py - Best checkpoint overriden: validation mAP@0.50: 0.6246152520179749\n",
      "[2024-02-29 15:55:32] INFO - base_sg_logger.py - Checkpoint saved in /kaggle/working/shoplifting_checkpoins/shoplifting_1/RUN_20240229_153452_599147/ckpt_best.pth\n",
      "[2024-02-29 15:55:32] INFO - sg_trainer.py - Best checkpoint overriden: validation mAP@0.50: 0.6387493014335632\n",
      "[2024-02-29 15:58:52] INFO - base_sg_logger.py - Checkpoint saved in /kaggle/working/shoplifting_checkpoins/shoplifting_1/RUN_20240229_153452_599147/ckpt_best.pth\n",
      "[2024-02-29 15:58:52] INFO - sg_trainer.py - Best checkpoint overriden: validation mAP@0.50: 0.6813383102416992\n",
      "[2024-02-29 16:02:14] INFO - base_sg_logger.py - Checkpoint saved in /kaggle/working/shoplifting_checkpoins/shoplifting_1/RUN_20240229_153452_599147/ckpt_best.pth\n",
      "[2024-02-29 16:02:14] INFO - sg_trainer.py - Best checkpoint overriden: validation mAP@0.50: 0.6876235008239746\n",
      "[2024-02-29 16:05:34] INFO - base_sg_logger.py - Checkpoint saved in /kaggle/working/shoplifting_checkpoins/shoplifting_1/RUN_20240229_153452_599147/ckpt_best.pth\n",
      "[2024-02-29 16:05:34] INFO - sg_trainer.py - Best checkpoint overriden: validation mAP@0.50: 0.7282105684280396\n",
      "[2024-02-29 16:12:17] INFO - base_sg_logger.py - Checkpoint saved in /kaggle/working/shoplifting_checkpoins/shoplifting_1/RUN_20240229_153452_599147/ckpt_best.pth\n",
      "[2024-02-29 16:12:17] INFO - sg_trainer.py - Best checkpoint overriden: validation mAP@0.50: 0.7762633562088013\n",
      "[2024-02-29 16:22:21] INFO - base_sg_logger.py - Checkpoint saved in /kaggle/working/shoplifting_checkpoins/shoplifting_1/RUN_20240229_153452_599147/ckpt_best.pth\n",
      "[2024-02-29 16:22:21] INFO - sg_trainer.py - Best checkpoint overriden: validation mAP@0.50: 0.7787289023399353\n",
      "[2024-02-29 16:25:43] INFO - base_sg_logger.py - Checkpoint saved in /kaggle/working/shoplifting_checkpoins/shoplifting_1/RUN_20240229_153452_599147/ckpt_best.pth\n",
      "[2024-02-29 16:25:43] INFO - sg_trainer.py - Best checkpoint overriden: validation mAP@0.50: 0.8150811195373535\n",
      "[2024-02-29 16:25:50] INFO - sg_trainer.py - RUNNING ADDITIONAL TEST ON THE AVERAGED MODEL...\n",
      "Validating epoch 15: 100%|██████████| 57/57 [00:18<00:00,  3.01it/s]\n",
      "[2024-02-29 16:26:10] INFO - base_sg_logger.py - [CLEANUP] - Successfully stopped system monitoring process\n"
     ]
    }
   ],
   "source": [
    "trainer.train(model=model,\n",
    "              training_params=train_params,\n",
    "              train_loader=train_data,\n",
    "              valid_loader=val_data)"
   ]
  },
  {
   "cell_type": "markdown",
   "metadata": {
    "id": "y_Bo4-FEhULP"
   },
   "source": [
    "# Get the best model"
   ]
  },
  {
   "cell_type": "code",
   "execution_count": 23,
   "metadata": {
    "execution": {
     "iopub.execute_input": "2024-02-29T16:51:46.963428Z",
     "iopub.status.busy": "2024-02-29T16:51:46.962749Z",
     "iopub.status.idle": "2024-02-29T16:51:48.490674Z",
     "shell.execute_reply": "2024-02-29T16:51:48.490295Z",
     "shell.execute_reply.started": "2024-02-29T16:51:46.963395Z"
    },
    "id": "E_no_mt7hXXv"
   },
   "outputs": [
    {
     "name": "stderr",
     "output_type": "stream",
     "text": [
      "[2024-02-29 16:51:48] INFO - checkpoint_utils.py - Successfully loaded model weights from /kaggle/working/shoplifting_checkpoins/shoplifting_1/RUN_20240229_153452_599147/ckpt_best.pth EMA checkpoint.\n"
     ]
    }
   ],
   "source": [
    "from super_gradients.training import models\n",
    "\n",
    "best_model = models.get('yolo_nas_s',\n",
    "                       num_classes = len(dataset_params['classes']),\n",
    "                       checkpoint_path = \"/kaggle/working/shoplifting_checkpoints/shoplifting_1/RUN_20240229_153452_599147/ckpt_best.pth\")"
   ]
  },
  {
   "cell_type": "markdown",
   "metadata": {
    "id": "3_qIsl9dkpbV"
   },
   "source": [
    "# Evaluating The Best Trained Model"
   ]
  },
  {
   "cell_type": "code",
   "execution_count": 24,
   "metadata": {
    "execution": {
     "iopub.execute_input": "2024-02-29T16:52:08.640081Z",
     "iopub.status.busy": "2024-02-29T16:52:08.639442Z",
     "iopub.status.idle": "2024-02-29T16:52:19.320563Z",
     "shell.execute_reply": "2024-02-29T16:52:19.320083Z",
     "shell.execute_reply.started": "2024-02-29T16:52:08.640049Z"
    },
    "id": "L_QiguCSjk-4"
   },
   "outputs": [
    {
     "name": "stderr",
     "output_type": "stream",
     "text": [
      "Testing:  96%|█████████▌| 25/26 [00:10<00:00,  2.67it/s]"
     ]
    },
    {
     "data": {
      "text/plain": [
       "{'PPYoloELoss/loss_cls': 1.1595685,\n",
       " 'PPYoloELoss/loss_iou': 0.53890216,\n",
       " 'PPYoloELoss/loss_dfl': 0.661899,\n",
       " 'PPYoloELoss/loss': 2.3603697,\n",
       " 'Precision@0.50': 0.0229448601603508,\n",
       " 'Recall@0.50': 0.9081728458404541,\n",
       " 'mAP@0.50': 0.568567156791687,\n",
       " 'F1@0.50': 0.0447578988969326,\n",
       " 'Best_score_threshold': 0.4399999976158142}"
      ]
     },
     "execution_count": 24,
     "metadata": {},
     "output_type": "execute_result"
    },
    {
     "name": "stderr",
     "output_type": "stream",
     "text": [
      "Testing: 100%|██████████| 26/26 [00:10<00:00,  2.46it/s]\n"
     ]
    }
   ],
   "source": [
    "trainer.test(model=best_model,\n",
    "             test_loader = test_data,\n",
    "             test_metrics_list = DetectionMetrics_050(score_thres = 0.1,\n",
    "                                                      top_k_predictions = 300,\n",
    "                                                      num_cls = len(dataset_params['classes']),\n",
    "                                                      normalize_targets = True,\n",
    "                                                      post_prediction_callback = PPYoloEPostPredictionCallback(score_threshold = 0.01,\n",
    "                                                                                                               nms_top_k = 1000,\n",
    "                                                                                                               max_predictions = 300,\n",
    "                                                                                                               nms_threshold = 0.7)))"
   ]
  },
  {
   "cell_type": "markdown",
   "metadata": {
    "id": "kfXVxBDimkFo"
   },
   "source": [
    "# Predictions"
   ]
  },
  {
   "cell_type": "code",
   "execution_count": 31,
   "metadata": {
    "execution": {
     "iopub.execute_input": "2024-02-29T17:00:03.387681Z",
     "iopub.status.busy": "2024-02-29T17:00:03.386949Z",
     "iopub.status.idle": "2024-02-29T17:00:03.390250Z",
     "shell.execute_reply": "2024-02-29T17:00:03.389937Z",
     "shell.execute_reply.started": "2024-02-29T17:00:03.387647Z"
    }
   },
   "outputs": [],
   "source": [
    "os.makedirs('/kaggle/working/testing_outputs')"
   ]
  },
  {
   "cell_type": "code",
   "execution_count": 39,
   "metadata": {
    "execution": {
     "iopub.execute_input": "2024-02-29T17:15:29.210323Z",
     "iopub.status.busy": "2024-02-29T17:15:29.209937Z",
     "iopub.status.idle": "2024-02-29T17:15:29.491844Z",
     "shell.execute_reply": "2024-02-29T17:15:29.491353Z",
     "shell.execute_reply.started": "2024-02-29T17:15:29.210291Z"
    },
    "id": "jmW5RJjLmljc"
   },
   "outputs": [
    {
     "name": "stderr",
     "output_type": "stream",
     "text": [
      "[2024-02-29 17:15:29] INFO - pipelines.py - Fusing some of the model's layers. If this takes too much memory, you can deactivate it by setting `fuse_model=False`\n"
     ]
    },
    {
     "data": {
      "image/png": "[encoded data removed]",
      "text/plain": [
       "<Figure size 300x168 with 1 Axes>"
      ]
     },
     "metadata": {},
     "output_type": "display_data"
    }
   ],
   "source": [
    "test_image = '/kaggle/input/training-dataset/test_image_1.jfif'\n",
    "model.predict(test_image).show()"
   ]
  },
  {
   "cell_type": "code",
   "execution_count": 32,
   "metadata": {
    "execution": {
     "iopub.execute_input": "2024-02-29T17:00:22.897269Z",
     "iopub.status.busy": "2024-02-29T17:00:22.896453Z",
     "iopub.status.idle": "2024-02-29T17:00:34.280905Z",
     "shell.execute_reply": "2024-02-29T17:00:34.280516Z",
     "shell.execute_reply.started": "2024-02-29T17:00:22.897236Z"
    },
    "id": "OUsvj5u4m21X"
   },
   "outputs": [
    {
     "name": "stderr",
     "output_type": "stream",
     "text": [
      "Processing Video:   0%|          | 0/616 [00:00<?, ?it/s][2024-02-29 17:00:23] INFO - pipelines.py - Fusing some of the model's layers. If this takes too much memory, you can deactivate it by setting `fuse_model=False`\n",
      "Processing Video: 100%|██████████| 616/616 [00:11<00:00, 55.32it/s]\n"
     ]
    }
   ],
   "source": [
    "device = 0 if torch.cuda.is_available() else \"cpu\"\n",
    "\n",
    "input_video_path = \"/kaggle/input/testing-images/istockphoto-1328141050-640_adpp_is.mp4\"\n",
    "output_video_path = \"/kaggle/working/testing_outputs/detections.mp4\"\n",
    "\n",
    "best_model.to(device).predict(input_video_path).save(output_video_path)"
   ]
  },
  {
   "cell_type": "code",
   "execution_count": null,
   "metadata": {},
   "outputs": [],
   "source": []
  }
 ],
 "metadata": {
  "accelerator": "GPU",
  "colab": {
   "gpuType": "T4",
   "provenance": []
  },
  "kaggle": {
   "accelerator": "nvidiaTeslaT4",
   "dataSources": [
    {
     "datasetId": 4516603,
     "sourceId": 7729735,
     "sourceType": "datasetVersion"
    },
    {
     "datasetId": 4517151,
     "sourceId": 7730479,
     "sourceType": "datasetVersion"
    },
    {
     "datasetId": 4517229,
     "sourceId": 7730575,
     "sourceType": "datasetVersion"
    }
   ],
   "dockerImageVersionId": 30665,
   "isGpuEnabled": true,
   "isInternetEnabled": true,
   "language": "python",
   "sourceType": "notebook"
  },
  "kernelspec": {
   "display_name": "Python 3 (ipykernel)",
   "language": "python",
   "name": "python3"
  },
  "language_info": {
   "codemirror_mode": {
    "name": "ipython",
    "version": 3
   },
   "file_extension": ".py",
   "mimetype": "text/x-python",
   "name": "python",
   "nbconvert_exporter": "python",
   "pygments_lexer": "ipython3",
   "version": "3.11.5"
  }
 },
 "nbformat": 4,
 "nbformat_minor": 4
}
